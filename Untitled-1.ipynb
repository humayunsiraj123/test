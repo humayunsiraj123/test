{
 "cells": [
  {
   "cell_type": "code",
   "execution_count": null,
   "metadata": {},
   "outputs": [],
   "source": [
    "class Item:\n",
    "    def __init__(self,name :str,price :float ,quaitiy=0):\n",
    "        assert price<=0 ,\"f{price} is less than zero andinvlaid \"\n",
    "        assert quaitiy<0 ,\"f{quaitiy} is less than zero andinvlaid \"\n",
    "\n",
    "        self.name=name\n",
    "        self.price=price\n",
    "        self.quaitiy=quaitiy\n",
    "    def price(self):\n",
    "        return self.price*self.quaitiy\n",
    "\n",
    "\n",
    "item1=Item(\"apple\",100,3)\n",
    "print(item1.name)\n",
    "print(item1.price())\n",
    "print(item1.price)\n",
    "\n"
   ]
  },
  {
   "cell_type": "code",
   "execution_count": null,
   "metadata": {},
   "outputs": [],
   "source": []
  }
 ],
 "metadata": {
  "language_info": {
   "name": "python"
  },
  "orig_nbformat": 4
 },
 "nbformat": 4,
 "nbformat_minor": 2
}
